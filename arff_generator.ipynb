{
 "cells": [
  {
   "cell_type": "code",
   "execution_count": 78,
   "metadata": {},
   "outputs": [],
   "source": [
    "import torch\n",
    "from transformers import BertTokenizer\n",
    "import numpy as np\n",
    "import pandas as pd\n",
    "pd.set_option('display.max_columns', None)"
   ]
  },
  {
   "cell_type": "code",
   "execution_count": 109,
   "metadata": {},
   "outputs": [],
   "source": [
    "\n",
    "########################### amz_train #####################################\n",
    "# data_df = pd.read_csv(\"HMC_data/text/train_40k.csv\")\n",
    "# label_df = pd.read_csv(\"HMC_data/text/amz_labels_training_40k.csv\")\n",
    "\n",
    "########################### amz_validate #####################################\n",
    "# data_df = pd.read_csv(\"HMC_data/text/val_10k.csv\")\n",
    "# label_df = pd.read_csv(\"HMC_data/text/amz_labels_validation_10k.csv\")\n",
    "# print(data_df.size, label_df.size)\n",
    "############################# enron_trainvalid ###################################\n",
    "data_df = pd.read_csv(\"HMC_data/text/enron_labeled_text.csv\")\n",
    "label_df = pd.read_csv(\"HMC_data/text/enron_labels.csv\")\n",
    "data_df = data_df.assign(Label=label_df[\"Label\"])\n",
    "############################# enron_test ###################################"
   ]
  },
  {
   "cell_type": "code",
   "execution_count": 111,
   "metadata": {},
   "outputs": [
    {
     "name": "stderr",
     "output_type": "stream",
     "text": [
      "/var/folders/sb/w27b1569221gwdwr8_btsbpm0000gr/T/ipykernel_48854/1037384979.py:13: FutureWarning: The default value of regex will change from True to False in a future version.\n",
      "  text = text.str.replace('[^a-zA-Z]', ' ')\n",
      "Truncation was not explicitly activated but `max_length` is provided a specific value, please use `truncation=True` to explicitly truncate examples to max length. Defaulting to 'longest_first' truncation strategy. If you encode pairs of sequences (GLUE-style) with the tokenizer you can select this strategy more precisely by providing a specific strategy to `truncation`.\n",
      "/var/folders/sb/w27b1569221gwdwr8_btsbpm0000gr/T/ipykernel_48854/1037384979.py:30: FutureWarning: arrays to stack must be passed as a \"sequence\" type such as list or tuple. Support for non-sequence iterables such as generators is deprecated as of NumPy 1.16 and will raise an error in the future.\n",
      "  tokenized_text_padded = np.vstack((np.array(x + [0]*(max_length - len(x))) for x in data_df['tokenized_text'].values))\n"
     ]
    }
   ],
   "source": [
    "####### Tokenization ######\n",
    "# Filter out data that are \n",
    "## 1. not labeled\n",
    "## 2. longer than 512 tokens as contraint by BERT tokenizer\n",
    "\n",
    "# Extract text content\n",
    "# text = data_df['Text'] ### for amz\n",
    "text = data_df['content'] ### for enron\n",
    "\n",
    "# Clean text data\n",
    "text = text.dropna()\n",
    "text = text.str.lower()\n",
    "text = text.str.replace('[^a-zA-Z]', ' ')\n",
    "\n",
    "# Tokenize text data\n",
    "tokenizer = BertTokenizer.from_pretrained('bert-base-uncased', device=device)\n",
    "\n",
    "# Define a function to tokenize the text\n",
    "def tokenize_text(text):\n",
    "    max_length = 512\n",
    "    return tokenizer.encode(text, add_special_tokens=True, max_length=max_length)\n",
    "\n",
    "# Apply the tokenize_text function to the column containing text\n",
    "data_df['tokenized_text'] = text.apply(tokenize_text)\n",
    "data_df = data_df.dropna(subset=['tokenized_text'])\n",
    "# data_df['tokenized_text'].fillna(\"\", inplace=True)\n",
    "\n",
    "# Apply padding to make sure all sequence have the same length\n",
    "max_length = 512\n",
    "tokenized_text_padded = np.vstack((np.array(x + [0]*(max_length - len(x))) for x in data_df['tokenized_text'].values))"
   ]
  },
  {
   "cell_type": "code",
   "execution_count": 112,
   "metadata": {},
   "outputs": [
    {
     "data": {
      "text/plain": [
       "56"
      ]
     },
     "execution_count": 112,
     "metadata": {},
     "output_type": "execute_result"
    }
   ],
   "source": [
    "############# amz #########################################\n",
    "# unique_vals = label_df[\"Label\"].unique()\n",
    "############## enron ##################################################\n",
    "unique_vals = \"1,1/1,1/1/1,1/1/2,1/1/3,1/1/4,1/1/5,1/1/6,1/1/7,1/1/8,1/1/9,1/1/10,1/1/11,1/1/12,1/1/13,1/2,1/3,1/4,1/5,1/6,1/7,1/8,2,2/1,2/2,2/3,2/4,2/5,2/6,2/7,2/8,2/9,2/10,2/11,2/12,2/13,4,4/1,4/2,4/3,4/4,4/5,4/6,4/7,4/8,4/9,4/10,4/11,4/12,4/13,4/14,4/15,4/16,4/17,4/18,4/19\".split(\",\")\n",
    "len(unique_vals)"
   ]
  },
  {
   "cell_type": "code",
   "execution_count": 113,
   "metadata": {},
   "outputs": [],
   "source": [
    "### write arff\n",
    "## 1. corpus as attributes - no we dont need this, just attrX\n",
    "## 2. all the unique labels\n",
    "## 3. encodings per sample\n",
    "\n",
    "# Define the function to convert CSV to ARFF\n",
    "def tensor_to_arff(tensor, labels, unique_labels, output_file, relation_name):\n",
    "    ## input parameters:\n",
    "    ### tensor - input tensor data without label\n",
    "    ### labels - list of labels in tensor\n",
    "    ### unique_labels - list of unique labels in tensor\n",
    "\n",
    "    # Write the ARFF file\n",
    "    with open(output_file, 'w') as arfffile:\n",
    "        # Write the relation name\n",
    "        arfffile.write('@RELATION ' + relation_name + '\\n\\n')\n",
    "\n",
    "        # Write the attributes\n",
    "        N, T = tensor.shape\n",
    "        for i in range(1, T+1):\n",
    "            arfffile.write('@ATTRIBUTE a'+ str(i) + '  numeric\\n')\n",
    "\n",
    "        # Write the unique labels\n",
    "        arfffile.write('@ATTRIBUTE class  hierarchical '+ ','.join([str(label) for label in unique_labels]) + '\\n')\n",
    "\n",
    "        # Write the data\n",
    "        arfffile.write('\\n@DATA\\n')\n",
    "        for j in range(0, N):\n",
    "            # Data + Data label\n",
    "            arfffile.write(','.join([str(val) for val in tensor[j]]) + ',' + str(labels[j]) + '\\n')"
   ]
  },
  {
   "cell_type": "code",
   "execution_count": 114,
   "metadata": {},
   "outputs": [],
   "source": [
    "# Example usage:\n",
    "################################ amz ################################\n",
    "# tensor_to_arff(tokenized_text_padded, label_df[\"Labels\"].tolist(), unique_vals, 'amz_review_others.arff', 'amz_review_others')\n",
    "# tensor_to_arff(tokenized_text_padded, label_df[\"Label\"].tolist(), unique_vals, 'amz_review_others_validate.arff', 'amz_review_others_validate')\n",
    "#################################### enron ############################################################\n",
    "tensor_to_arff(tokenized_text_padded, data_df[\"Label\"].tolist(), unique_vals, 'enron_text_others_train.arff', 'enron_text_others_train')"
   ]
  }
 ],
 "metadata": {
  "kernelspec": {
   "display_name": "base",
   "language": "python",
   "name": "python3"
  },
  "language_info": {
   "codemirror_mode": {
    "name": "ipython",
    "version": 3
   },
   "file_extension": ".py",
   "mimetype": "text/x-python",
   "name": "python",
   "nbconvert_exporter": "python",
   "pygments_lexer": "ipython3",
   "version": "3.9.16"
  },
  "orig_nbformat": 4
 },
 "nbformat": 4,
 "nbformat_minor": 2
}
